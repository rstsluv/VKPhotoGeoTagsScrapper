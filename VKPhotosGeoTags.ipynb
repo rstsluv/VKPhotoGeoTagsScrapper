{
 "cells": [
  {
   "cell_type": "code",
   "execution_count": 2,
   "metadata": {},
   "outputs": [],
   "source": [
    "import pandas as pd\n",
    "import geopandas as gpd\n",
    "import folium\n",
    "from folium.plugins import HeatMap\n",
    "import requests as r\n",
    "from datetime import datetime, timedelta\n",
    "from typing import Tuple, List, Dict\n",
    "from time import sleep\n",
    "import os\n",
    "from tqdm.notebook import tqdm\n",
    "\n",
    "vk_vers = 5.131 # current vk version\n",
    "vk_access_token='YOUR_API_KEY'"
   ]
  },
  {
   "cell_type": "markdown",
   "metadata": {},
   "source": [
    "# Функции "
   ]
  },
  {
   "cell_type": "markdown",
   "metadata": {},
   "source": [
    "## Сбор параметров для запроса"
   ]
  },
  {
   "cell_type": "code",
   "execution_count": 2,
   "metadata": {},
   "outputs": [],
   "source": [
    "def get_data(coords: Tuple[float, float], dist:int, timeperiod: Tuple[int, int], offset: int = 0) -> Dict:\n",
    "    \"\"\"\n",
    "    Выполнить GET-запрос к API ВКонтакте для поиска фотографий.\n",
    "\n",
    "    Args:\n",
    "        coords (Tuple[float, float]): Координаты поиска (широта, долгота).\n",
    "        coords (int): Радиус поиска в м.\n",
    "        timeperiod (Tuple[int, int]): Временной промежуток в формате Unix timestamp (начало, конец).\n",
    "        offset (int): Смещение для пагинации данных.\n",
    "\n",
    "    Returns:\n",
    "        dict: JSON-ответ от VK API.\n",
    "    \"\"\"\n",
    "    params = {\n",
    "        'lat': coords[0],\n",
    "        'long': coords[1],\n",
    "        'count': 1000,\n",
    "        'offset': offset,\n",
    "        'radius': dist,\n",
    "        'start_time': timeperiod[0],\n",
    "        'end_time': timeperiod[1],\n",
    "        'access_token': vk_access_token,\n",
    "        'v': vk_vers,\n",
    "        'sort': 0  # сортировка по дате создания\n",
    "    }\n",
    "    try:\n",
    "        response = r.get(\"https://api.vk.com/method/photos.search\", params=params, verify=True)\n",
    "        response.raise_for_status()\n",
    "        return response.json()\n",
    "    except r.RequestException as e:\n",
    "        print(f\"Ошибка запроса данных: {e}\")\n",
    "        return {}"
   ]
  },
  {
   "cell_type": "markdown",
   "metadata": {},
   "source": [
    "## Сохранение ответа от сервера VK"
   ]
  },
  {
   "cell_type": "code",
   "execution_count": 3,
   "metadata": {},
   "outputs": [],
   "source": [
    "def save_points(response: Dict, df_points: pd.DataFrame) -> None:\n",
    "    \"\"\"\n",
    "    Сохранить данные из ответа VK API в DataFrame.\n",
    "\n",
    "    Args:\n",
    "        response (dict): Ответ от VK API.\n",
    "        df_points (pd.DataFrame): DataFrame для сохранения точек.\n",
    "    \"\"\"\n",
    "    try:\n",
    "        items = response['response']['items']\n",
    "    except KeyError:\n",
    "        print(\"Ключ 'items' отсутствует в ответе.\")\n",
    "        return\n",
    "    \n",
    "    for item in items:\n",
    "        try:\n",
    "            record = {\n",
    "                'id': item['id'],\n",
    "                'owner_id': item['owner_id'],\n",
    "                'url': item['sizes'][-1]['url'],\n",
    "                'date': datetime.fromtimestamp(item['date']),\n",
    "                'text': item.get('text', ''),\n",
    "                'lat': item.get('lat', None),\n",
    "                'long': item.get('long', None)\n",
    "            }\n",
    "            df_points.loc[len(df_points)] = record\n",
    "        except KeyError as e:\n",
    "            print(f\"Ошибка при обработке элемента: {e}\")\n",
    "            continue"
   ]
  },
  {
   "cell_type": "markdown",
   "metadata": {},
   "source": [
    "## Сбор данных в GeoDataFrame"
   ]
  },
  {
   "cell_type": "code",
   "execution_count": 4,
   "metadata": {},
   "outputs": [],
   "source": [
    "def collect_data(coords: Tuple[float, float], dist: int, start_date: datetime, end_date: datetime, delete_groups = False) -> gpd.GeoDataFrame:\n",
    "    \"\"\"\n",
    "    Собрать данные из VK API в заданном временном промежутке.\n",
    "\n",
    "    Args:\n",
    "        coords (Tuple[float, float]): Координаты поиска (широта, долгота).\n",
    "        dist (int): Радиус поиска в метрах.\n",
    "        start_date (datetime): Дата начала поиска.\n",
    "        end_date (datetime): Дата конца поиска.\n",
    "        delete_groups (bool): Удалить группы - да/нет.\n",
    "\n",
    "    Returns:\n",
    "        gpd.GeoDataFrame: GeoDataFrame с собранными данными.\n",
    "    \"\"\"\n",
    "    # Определяем шаг в 1 день (в секундах)\n",
    "    step = timedelta(days=1).total_seconds()\n",
    "\n",
    "    # Создаем список временных интервалов (начало каждого дня)\n",
    "    time_intervals = list(range(int(start_date.timestamp()), int(end_date.timestamp()), int(step)))\n",
    "\n",
    "    # Инициализируем DataFrame для хранения результатов\n",
    "    df_points = pd.DataFrame(columns=['id', 'owner_id', 'url', 'date', 'text', 'lat', 'long'])\n",
    "\n",
    "    # Используем tqdm для отображения прогресса\n",
    "    for current_time in tqdm(time_intervals, desc=\"Обработка временных интервалов\"):\n",
    "        # Запрос данных за 1 день\n",
    "        resp = get_data(coords, dist, (current_time, current_time + step), offset=0)\n",
    "        save_points(resp, df_points)\n",
    "\n",
    "        # Если данных больше, чем 1000, обрабатываем их с `offset`\n",
    "        try:\n",
    "            count = resp['response']['count']\n",
    "            returned = len(resp['response']['items'])\n",
    "        except KeyError:\n",
    "            print(f\"Пропущен временной интервал: {datetime.fromtimestamp(current_time)}\")\n",
    "            sleep(0.5)  # Задержка перед переходом к следующему интервалу\n",
    "            continue\n",
    "\n",
    "        offset = returned\n",
    "        while offset < count and offset < 3000:  # Ограничение API\n",
    "            resp = get_data(coords, dist, (current_time, current_time + step), offset)\n",
    "            save_points(resp, df_points)\n",
    "            offset += len(resp['response']['items'])\n",
    "\n",
    "        # Добавляем задержку между запросами\n",
    "        sleep(0.5)\n",
    "\n",
    "    # Преобразуем DataFrame в GeoDataFrame\n",
    "    gdf_points = gpd.GeoDataFrame(\n",
    "        df_points,\n",
    "        geometry=gpd.points_from_xy(df_points.long, df_points.lat),\n",
    "        crs=\"EPSG:4326\"\n",
    "    )\n",
    "    gdf_points = gdf_points[~gdf_points.geometry.is_empty]\n",
    "\n",
    "    if delete_groups:\n",
    "        gdf_points = gdf_points.loc[~gdf_points['owner_id'].astype(str).str.startswith('-')]\n",
    "\n",
    "    return gdf_points"
   ]
  },
  {
   "cell_type": "markdown",
   "metadata": {},
   "source": [
    "# Использование скрипта"
   ]
  },
  {
   "cell_type": "code",
   "execution_count": null,
   "metadata": {},
   "outputs": [],
   "source": [
    "coords = (53.361637, 55.924653)  # Широта, Долгота\n",
    "dist = 5000  # Радиус поиска в м.\n",
    "start_date = datetime(2022, 1, 1)  # Стартовая дата поиска\n",
    "end_date = datetime(2024, 12, 1) # Конечная дата поиска \n",
    "delete_groups = False # Удалить группы? Нет/Да\n",
    "\n",
    "gdf_points = collect_data(coords, dist, start_date, end_date)"
   ]
  },
  {
   "cell_type": "markdown",
   "metadata": {},
   "source": [
    "# Визуализация точек на тепловой карте"
   ]
  },
  {
   "cell_type": "code",
   "execution_count": null,
   "metadata": {},
   "outputs": [],
   "source": [
    "osm_map = folium.Map(location=[gdf_points.lat.mean(), gdf_points.long.mean()], tiles=\"cartodb positron\", zoom_start=14)\n",
    "map_matrix = gdf_points[['lat', 'long']].values\n",
    "HeatMap(map_matrix).add_to(osm_map)\n",
    "osm_map"
   ]
  }
 ],
 "metadata": {
  "kernelspec": {
   "display_name": "Python 3",
   "language": "python",
   "name": "python3"
  },
  "language_info": {
   "codemirror_mode": {
    "name": "ipython",
    "version": 3
   },
   "file_extension": ".py",
   "mimetype": "text/x-python",
   "name": "python",
   "nbconvert_exporter": "python",
   "pygments_lexer": "ipython3",
   "version": "3.11.0"
  },
  "orig_nbformat": 4,
  "vscode": {
   "interpreter": {
    "hash": "aee8b7b246df8f9039afb4144a1f6fd8d2ca17a180786b69acc140d282b71a49"
   }
  }
 },
 "nbformat": 4,
 "nbformat_minor": 2
}
